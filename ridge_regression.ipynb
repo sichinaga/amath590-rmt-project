{
 "cells": [
  {
   "cell_type": "code",
   "execution_count": 1,
   "id": "95e47826",
   "metadata": {},
   "outputs": [],
   "source": [
    "import numpy as np\n",
    "import matplotlib.pyplot as plt\n",
    "from sklearn.datasets import fetch_openml\n",
    "from numpy.polynomial.hermite import Hermite"
   ]
  },
  {
   "cell_type": "markdown",
   "id": "4d89353b",
   "metadata": {},
   "source": [
    "Loss \n",
    "$$L(W_2) = \\frac{1}{m}||Y - W_2^T F||_F^2 + \\frac{\\gamma}{n2}||W_2||_F^2$$\n",
    "where $F = f(WX)$\n",
    "\n",
    "Optimal $W_2$ \n",
    "$$W_2^* =(1/m)FQY^T$$\n",
    "where \n",
    "$$Q = ((1/m)F^TF + \\gamma I_m)^{-1}$$\n"
   ]
  },
  {
   "cell_type": "markdown",
   "id": "0f581792",
   "metadata": {},
   "source": [
    "f can be expanded as a Hermite polynomial, i.e.\n",
    "$$f(x) = \\sum_{i=0}^{d} f_i H_i(x)$$\n",
    "where $H_i(x)$ is the $i$th Hermite polynomial.\n",
    "\n",
    "The ith Hermite polynomial is defined as\n",
    "$$H_i(x) = (-1)^i e^{x^2/2} \\frac{d^i}{dx^i} e^{-x^2/2}$$\n",
    "\n",
    "Authors showed that there is a convenient to sample $f$ based on $\\zeta$ and $\\eta$ by letting $\\sqrt{\\zeta} = f_1$ and $\\sum_i^N f_i^2 = \\eta - 1$.\n"
   ]
  },
  {
   "cell_type": "code",
   "execution_count": 2,
   "id": "b275fa7f",
   "metadata": {},
   "outputs": [],
   "source": [
    "def sample_fixed_norm_vector(d, eta):\n",
    "    f = np.random.normal(0, 1, d)\n",
    "    f /= np.linalg.norm(f)\n",
    "    f *= np.sqrt(eta - 1)\n",
    "    return f\n",
    "\n",
    "def f(x,zeta,eta,d):\n",
    "    coeffs = [np.sqrt(zeta)]\n",
    "    f_coeffs = sample_fixed_norm_vector(d,eta)\n",
    "    coeffs.extend(f_coeffs)\n",
    "    return np.polynomial.hermite.Hermite(coeffs)(x)\n",
    "    \n",
    "def build_W(n0, n1, sigma_w, seed=None):\n",
    "    rng = np.random.default_rng(seed=seed)\n",
    "    return (sigma_w / np.sqrt(n0)) * rng.standard_normal(size=(n1, n0))\n",
    "\n",
    "def loss(m,gamma,Y,F,W2):\n",
    "    l = (1/m)*np.linalg.norm(Y - np.matmul(W2.T,F))**2 + gamma * np.linalg.norm(W2)**2\n",
    "    return l\n",
    "\n",
    "def accuracy(Y_true,Y_pred):\n",
    "    return np.sum(Y_true == Y_pred)/len(Y_true)"
   ]
  },
  {
   "cell_type": "code",
   "execution_count": 3,
   "id": "f3153243",
   "metadata": {},
   "outputs": [],
   "source": [
    "mnist = fetch_openml(\"mnist_784\", parser=\"auto\")\n",
    "X = np.array(mnist.data) / 255.0 \n",
    "y = np.array(mnist.target).astype(int)\n",
    "\n",
    "from sklearn.preprocessing import LabelBinarizer\n",
    "from sklearn.decomposition import PCA \n",
    "from sklearn.preprocessing import StandardScaler\n",
    "\n",
    "# fitting scalar and pca to entire training set \n",
    "scaler = StandardScaler()\n",
    "pca = PCA(n_components=0.95)\n",
    "centered_train_X = scaler.fit_transform(X)\n",
    "pca.fit(centered_train_X)\n",
    "\n",
    "# Get indices where y is either 3 or 8\n",
    "indices = np.where((y == 3) | (y == 8))[0]\n",
    "\n",
    "# Filter X and y using these indices\n",
    "X_filtered = X[indices]\n",
    "y_filtered = y[indices]\n",
    "\n",
    "centered_X_filered = scaler.transform(X_filtered)\n",
    "X_train = pca.transform(centered_X_filered)\n",
    "\n",
    "lb = LabelBinarizer(neg_label=-1,pos_label=1)\n",
    "y_train = lb.fit_transform(y_filtered).squeeze()"
   ]
  },
  {
   "cell_type": "code",
   "execution_count": 4,
   "id": "929763af",
   "metadata": {},
   "outputs": [],
   "source": [
    "m = X_train.shape[0]\n",
    "n0 = X_train.shape[1]\n",
    "phi = n0/m\n",
    "psi = 1\n",
    "n1 = int(n0 / psi)\n",
    "sigma_w = 1"
   ]
  },
  {
   "cell_type": "markdown",
   "id": "68598f9d",
   "metadata": {},
   "source": [
    "The authors show that when $\\zeta$ is closed to $\\eta$, the models are unable to\n",
    "utilize their nonlinearity unless the $\\gamma$ is small. Conversely,\n",
    "for $\\zeta$ close to zero, the models exploits the nonlinearity and absorb large\n",
    "amounts of regularization without a significant drop in performance. "
   ]
  },
  {
   "cell_type": "code",
   "execution_count": 5,
   "id": "92837f0e",
   "metadata": {},
   "outputs": [
    {
     "name": "stderr",
     "output_type": "stream",
     "text": [
      "/var/folders/wq/syx9m2g570sg5zryv4kqc1xr0000gn/T/ipykernel_89934/1376258337.py:7: RuntimeWarning: overflow encountered in power\n",
      "  zeta_values = eta / (10**(beta_log_ratio_values) + 1)\n"
     ]
    }
   ],
   "source": [
    "# Choose a fixed value for η \n",
    "eta = 2.0\n",
    "\n",
    "beta_log_ratio_values = np.logspace(-100, 3, 10)\n",
    "\n",
    "# Calculate corresponding ζ values\n",
    "zeta_values = eta / (10**(beta_log_ratio_values) + 1)\n",
    "\n",
    "gamma_log_ratio_values = np.linspace(3, 3, 10)\n",
    "gamma_values = eta * (10**gamma_log_ratio_values)"
   ]
  },
  {
   "cell_type": "code",
   "execution_count": null,
   "id": "1ec829da",
   "metadata": {},
   "outputs": [
    {
     "name": "stderr",
     "output_type": "stream",
     "text": [
      "/var/folders/wq/syx9m2g570sg5zryv4kqc1xr0000gn/T/ipykernel_89934/2206164562.py:8: RuntimeWarning: overflow encountered in matmul\n",
      "  Q = np.linalg.inv((1/m)*np.matmul(F.T,F) + gamma * np.identity(m))\n",
      "/var/folders/wq/syx9m2g570sg5zryv4kqc1xr0000gn/T/ipykernel_89934/2206164562.py:8: RuntimeWarning: invalid value encountered in matmul\n",
      "  Q = np.linalg.inv((1/m)*np.matmul(F.T,F) + gamma * np.identity(m))\n"
     ]
    }
   ],
   "source": [
    "l_avg = np.zeros((len(zeta_values),len(gamma_values)))\n",
    "for i,zeta in enumerate(zeta_values):\n",
    "    for j,gamma in enumerate(gamma_values):\n",
    "        l = []\n",
    "        for k in range(1):\n",
    "            W = build_W(n0, n1, sigma_w)\n",
    "            F = f(np.matmul(W,X_train.T),zeta,eta,100)\n",
    "            Q = np.linalg.inv((1/m)*np.matmul(F.T,F) + gamma * np.identity(m))\n",
    "            W2 = (1/m)*np.matmul(np.matmul(F,Q),y_train.T)\n",
    "            y_pred = np.sign(np.matmul(W2.T,F))     \n",
    "            l.append(accuracy(y_train,y_pred))\n",
    "        l_avg[i,j] = np.mean(l)"
   ]
  },
  {
   "cell_type": "code",
   "execution_count": null,
   "id": "21073c34",
   "metadata": {},
   "outputs": [
    {
     "data": {
      "image/png": "[encoded data removed]",
      "text/plain": [
       "<Figure size 640x480 with 1 Axes>"
      ]
     },
     "metadata": {},
     "output_type": "display_data"
    }
   ],
   "source": [
    "for i in range(l_avg.shape[0]):\n",
    "    plt.plot(l_avg[i])"
   ]
  }
 ],
 "metadata": {
  "kernelspec": {
   "display_name": "py39",
   "language": "python",
   "name": "python3"
  },
  "language_info": {
   "codemirror_mode": {
    "name": "ipython",
    "version": 3
   },
   "file_extension": ".py",
   "mimetype": "text/x-python",
   "name": "python",
   "nbconvert_exporter": "python",
   "pygments_lexer": "ipython3",
   "version": "3.9.19"
  }
 },
 "nbformat": 4,
 "nbformat_minor": 5
}
